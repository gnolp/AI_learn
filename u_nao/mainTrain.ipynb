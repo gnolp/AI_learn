{
 "cells": [
  {
   "cell_type": "code",
   "execution_count": 1,
   "metadata": {},
   "outputs": [
    {
     "name": "stdout",
     "output_type": "stream",
     "text": [
      "[[[0 0 0]\n",
      "  [0 0 0]\n",
      "  [0 0 0]\n",
      "  ...\n",
      "  [0 0 0]\n",
      "  [0 0 0]\n",
      "  [0 0 0]]\n",
      "\n",
      " [[0 0 0]\n",
      "  [0 0 0]\n",
      "  [0 0 0]\n",
      "  ...\n",
      "  [0 0 0]\n",
      "  [0 0 0]\n",
      "  [0 0 0]]\n",
      "\n",
      " [[0 0 0]\n",
      "  [0 0 0]\n",
      "  [0 0 0]\n",
      "  ...\n",
      "  [0 0 0]\n",
      "  [0 0 0]\n",
      "  [0 0 0]]\n",
      "\n",
      " ...\n",
      "\n",
      " [[0 0 0]\n",
      "  [0 0 0]\n",
      "  [0 0 0]\n",
      "  ...\n",
      "  [0 0 0]\n",
      "  [0 0 0]\n",
      "  [0 0 0]]\n",
      "\n",
      " [[0 0 0]\n",
      "  [0 0 0]\n",
      "  [0 0 0]\n",
      "  ...\n",
      "  [0 0 0]\n",
      "  [0 0 0]\n",
      "  [0 0 0]]\n",
      "\n",
      " [[0 0 0]\n",
      "  [0 0 0]\n",
      "  [0 0 0]\n",
      "  ...\n",
      "  [0 0 0]\n",
      "  [0 0 0]\n",
      "  [0 0 0]]]\n",
      "0\n"
     ]
    }
   ],
   "source": [
    "import cv2\n",
    "import os\n",
    "from PIL import Image,ImageOps\n",
    "import numpy as np\n",
    "image_directory = 'Datasets/'\n",
    "\n",
    "dataset = []\n",
    "label = []\n",
    "INPUT_SIZE = 64\n",
    "no_tumor_brain = os.listdir(image_directory + 'no/')\n",
    "for i, image_name in enumerate(no_tumor_brain):\n",
    "    image = cv2.imread(image_directory + '/no/' + image_name)\n",
    "    image = Image.fromarray(image,'RGB')\n",
    "    max_side = max(image.size)\n",
    "    # Tính toán padding\n",
    "    left_padding = (max_side - image.width) // 2\n",
    "    top_padding = (max_side - image.height) // 2\n",
    "    right_padding = max_side - image.width - left_padding\n",
    "    bottom_padding = max_side - image.height - top_padding\n",
    "\n",
    "    # Thêm padding để tạo hình vuông\n",
    "    image = ImageOps.expand(image, (left_padding, top_padding, right_padding, bottom_padding), fill=(0, 0, 0)) # Phần thêm sẽ để màu đen\n",
    "\n",
    "    # Tùy chọn: Thay đổi kích thước hình ảnh thành hình vuông với kích thước mong muốn\n",
    "    final_size = (INPUT_SIZE, INPUT_SIZE)\n",
    "    image = image.resize(final_size)\n",
    "    dataset.append(np.array(image))\n",
    "    label.append(0)\n",
    "\n",
    "\n",
    "yes_tumor_brain = os.listdir(image_directory + 'yes/')\n",
    "for i, image_name in enumerate(yes_tumor_brain):\n",
    "    image = cv2.imread(image_directory + '/yes/' + image_name)\n",
    "    image = Image.fromarray(image,'RGB')\n",
    "    max_side = max(image.size)\n",
    "    # Tính toán padding\n",
    "    left_padding = (max_side - image.width) // 2\n",
    "    top_padding = (max_side - image.height) // 2\n",
    "    right_padding = max_side - image.width - left_padding\n",
    "    bottom_padding = max_side - image.height - top_padding\n",
    "\n",
    "    # Thêm padding để tạo hình vuông\n",
    "    image = ImageOps.expand(image, (left_padding, top_padding, right_padding, bottom_padding), fill=(0, 0, 0)) # Phần thêm sẽ để màu đen\n",
    "\n",
    "    # Tùy chọn: Thay đổi kích thước hình ảnh thành hình vuông với kích thước mong muốn\n",
    "    final_size = (INPUT_SIZE, INPUT_SIZE)\n",
    "    image = image.resize(final_size)\n",
    "    dataset.append(np.array(image))\n",
    "    label.append(1)\n",
    "\n",
    "print(dataset[0])\n",
    "print(label[0])"
   ]
  },
  {
   "cell_type": "code",
   "execution_count": 2,
   "metadata": {},
   "outputs": [],
   "source": [
    "dataset = np.array(dataset)\n",
    "label = np.array(label)"
   ]
  },
  {
   "cell_type": "code",
   "execution_count": 3,
   "metadata": {},
   "outputs": [],
   "source": [
    "from sklearn.model_selection import train_test_split\n",
    " "
   ]
  },
  {
   "cell_type": "code",
   "execution_count": 4,
   "metadata": {},
   "outputs": [],
   "source": [
    "x_train, x_test, y_train, y_test = train_test_split(dataset,label, test_size=0.2, random_state=42)\n"
   ]
  },
  {
   "cell_type": "code",
   "execution_count": 5,
   "metadata": {},
   "outputs": [],
   "source": [
    "from tensorflow import keras\n",
    "from keras.utils import normalize\n",
    "from keras.models import Sequential\n",
    "from keras.layers import Conv2D, MaxPooling2D,Activation,Dropout, Flatten, Dense"
   ]
  },
  {
   "cell_type": "code",
   "execution_count": 6,
   "metadata": {},
   "outputs": [],
   "source": [
    "x_train = normalize(x_train,axis=1)\n",
    "x_test = normalize(x_test,axis=1)\n"
   ]
  },
  {
   "cell_type": "code",
   "execution_count": 7,
   "metadata": {},
   "outputs": [
    {
     "name": "stderr",
     "output_type": "stream",
     "text": [
      "f:\\AI\\myenvs\\lib\\site-packages\\keras\\src\\layers\\convolutional\\base_conv.py:107: UserWarning: Do not pass an `input_shape`/`input_dim` argument to a layer. When using Sequential models, prefer using an `Input(shape)` object as the first layer in the model instead.\n",
      "  super().__init__(activity_regularizer=activity_regularizer, **kwargs)\n"
     ]
    }
   ],
   "source": [
    "model = Sequential()\n",
    "model.add(Conv2D(32,(3,3), input_shape=(INPUT_SIZE,INPUT_SIZE,3)))\n",
    "model.add(Activation('relu'))\n",
    "model.add(MaxPooling2D(pool_size=(2,2)))\n",
    "\n",
    "model.add(Conv2D(32,(3,3), kernel_initializer='he_uniform'))\n",
    "model.add(Activation('relu'))\n",
    "model.add(MaxPooling2D(pool_size=(2,2)))\n",
    "\n",
    "model.add(Conv2D(64,(3,3), kernel_initializer='he_uniform'))\n",
    "model.add(Activation('relu'))\n",
    "model.add(MaxPooling2D(pool_size=(2,2)))\n",
    "\n",
    "model.add(Flatten())\n",
    "model.add(Dense(64))\n",
    "model.add(Activation('relu'))\n",
    "model.add(Dropout(0.5))\n",
    "model.add(Dense(1))\n",
    "model.add(Activation('sigmoid'))\n",
    "\n",
    "\n",
    "\n"
   ]
  },
  {
   "cell_type": "code",
   "execution_count": 8,
   "metadata": {},
   "outputs": [],
   "source": [
    "model.compile(loss='binary_crossentropy', optimizer='adam', metrics=['accuracy'])"
   ]
  },
  {
   "cell_type": "code",
   "execution_count": 9,
   "metadata": {},
   "outputs": [
    {
     "name": "stdout",
     "output_type": "stream",
     "text": [
      "Epoch 1/10\n",
      "\u001b[1m150/150\u001b[0m \u001b[32m━━━━━━━━━━━━━━━━━━━━\u001b[0m\u001b[37m\u001b[0m \u001b[1m4s\u001b[0m 19ms/step - accuracy: 0.6350 - loss: 0.6344 - val_accuracy: 0.7533 - val_loss: 0.5003\n",
      "Epoch 2/10\n",
      "\u001b[1m150/150\u001b[0m \u001b[32m━━━━━━━━━━━━━━━━━━━━\u001b[0m\u001b[37m\u001b[0m \u001b[1m3s\u001b[0m 18ms/step - accuracy: 0.7913 - loss: 0.4663 - val_accuracy: 0.8217 - val_loss: 0.3930\n",
      "Epoch 3/10\n",
      "\u001b[1m150/150\u001b[0m \u001b[32m━━━━━━━━━━━━━━━━━━━━\u001b[0m\u001b[37m\u001b[0m \u001b[1m3s\u001b[0m 19ms/step - accuracy: 0.8579 - loss: 0.3543 - val_accuracy: 0.8833 - val_loss: 0.2979\n",
      "Epoch 4/10\n",
      "\u001b[1m150/150\u001b[0m \u001b[32m━━━━━━━━━━━━━━━━━━━━\u001b[0m\u001b[37m\u001b[0m \u001b[1m3s\u001b[0m 20ms/step - accuracy: 0.8921 - loss: 0.2703 - val_accuracy: 0.8817 - val_loss: 0.2933\n",
      "Epoch 5/10\n",
      "\u001b[1m150/150\u001b[0m \u001b[32m━━━━━━━━━━━━━━━━━━━━\u001b[0m\u001b[37m\u001b[0m \u001b[1m3s\u001b[0m 18ms/step - accuracy: 0.9212 - loss: 0.2053 - val_accuracy: 0.9333 - val_loss: 0.1840\n",
      "Epoch 6/10\n",
      "\u001b[1m150/150\u001b[0m \u001b[32m━━━━━━━━━━━━━━━━━━━━\u001b[0m\u001b[37m\u001b[0m \u001b[1m3s\u001b[0m 17ms/step - accuracy: 0.9497 - loss: 0.1403 - val_accuracy: 0.9500 - val_loss: 0.1339\n",
      "Epoch 7/10\n",
      "\u001b[1m150/150\u001b[0m \u001b[32m━━━━━━━━━━━━━━━━━━━━\u001b[0m\u001b[37m\u001b[0m \u001b[1m3s\u001b[0m 22ms/step - accuracy: 0.9646 - loss: 0.0965 - val_accuracy: 0.9333 - val_loss: 0.1779\n",
      "Epoch 8/10\n",
      "\u001b[1m150/150\u001b[0m \u001b[32m━━━━━━━━━━━━━━━━━━━━\u001b[0m\u001b[37m\u001b[0m \u001b[1m3s\u001b[0m 20ms/step - accuracy: 0.9759 - loss: 0.0699 - val_accuracy: 0.9517 - val_loss: 0.1722\n",
      "Epoch 9/10\n",
      "\u001b[1m150/150\u001b[0m \u001b[32m━━━━━━━━━━━━━━━━━━━━\u001b[0m\u001b[37m\u001b[0m \u001b[1m3s\u001b[0m 19ms/step - accuracy: 0.9813 - loss: 0.0585 - val_accuracy: 0.9533 - val_loss: 0.1535\n",
      "Epoch 10/10\n",
      "\u001b[1m150/150\u001b[0m \u001b[32m━━━━━━━━━━━━━━━━━━━━\u001b[0m\u001b[37m\u001b[0m \u001b[1m3s\u001b[0m 17ms/step - accuracy: 0.9935 - loss: 0.0304 - val_accuracy: 0.9350 - val_loss: 0.1931\n"
     ]
    },
    {
     "name": "stderr",
     "output_type": "stream",
     "text": [
      "WARNING:absl:You are saving your model as an HDF5 file via `model.save()` or `keras.saving.save_model(model)`. This file format is considered legacy. We recommend using instead the native Keras format, e.g. `model.save('my_model.keras')` or `keras.saving.save_model(model, 'my_model.keras')`. \n"
     ]
    }
   ],
   "source": [
    "model.fit(x_train,y_train, \n",
    "        batch_size= 16,\n",
    "        verbose=1,\n",
    "        epochs=10,\n",
    "        validation_data=(x_test,y_test),\n",
    "        shuffle=False)\n",
    "\n",
    "model.save(\"BrainTumor10epochs.h5\")"
   ]
  }
 ],
 "metadata": {
  "kernelspec": {
   "display_name": "myenv1",
   "language": "python",
   "name": "python3"
  },
  "language_info": {
   "codemirror_mode": {
    "name": "ipython",
    "version": 3
   },
   "file_extension": ".py",
   "mimetype": "text/x-python",
   "name": "python",
   "nbconvert_exporter": "python",
   "pygments_lexer": "ipython3",
   "version": "3.9.19"
  }
 },
 "nbformat": 4,
 "nbformat_minor": 2
}
