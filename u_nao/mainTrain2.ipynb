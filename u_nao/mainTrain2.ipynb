{
 "cells": [
  {
   "cell_type": "code",
   "execution_count": 70,
   "metadata": {},
   "outputs": [],
   "source": [
    "import torch\n",
    "from torchvision import datasets, transforms\n",
    "from torch.utils.data import DataLoader\n",
    "from PIL import Image\n",
    "from torchvision.transforms import functional as F"
   ]
  },
  {
   "cell_type": "code",
   "execution_count": 71,
   "metadata": {},
   "outputs": [],
   "source": [
    "#padding to square \n",
    "def pad_to_square(image):\n",
    "    width, height = image.size\n",
    "    max_wh = max(width, height)\n",
    "    padding = [\n",
    "        (max_wh - width) // 2,      # Left\n",
    "        (max_wh - height) // 2,     # Top\n",
    "        (max_wh - width + 1) // 2,  # Right\n",
    "        (max_wh - height + 1) // 2  # Bottom\n",
    "    ]\n",
    "    return F.pad(image, padding, fill=0)\n",
    "def bounding_box(image):\n",
    "    gray_image = image.convert(\"L\")\n",
    "    binary_image = gray_image.point(lambda p: p > 0 and 255)\n",
    "    bbox = binary_image.getbbox()\n",
    "    return bbox\n",
    "def crop_to_square(image):\n",
    "    bbox = bounding_box(image)\n",
    "    if bbox:\n",
    "        left,top,right,bottom = bbox\n",
    "        width, height = right - left, bottom - top\n",
    "        max_size = max(width, height)\n",
    "        new_left = left - (max_size - width) // 2\n",
    "        new_top = top - (max_size - height) // 2\n",
    "        new_right = new_left + max_size\n",
    "        new_bottom = new_top + max_size\n",
    "        return image.crop((new_left, new_top, new_right, new_bottom))\n",
    "    return image"
   ]
  },
  {
   "cell_type": "code",
   "execution_count": 72,
   "metadata": {},
   "outputs": [],
   "source": [
    "transform = transforms.Compose([\n",
    "    transforms.Lambda(lambda img: pad_to_square(img)),\n",
    "    transforms.Lambda(lambda img: crop_to_square(img)),\n",
    "    transforms.Resize((64, 64)),\n",
    "    transforms.ToTensor(),\n",
    "    transforms.Normalize(mean=[0.485, 0.456, 0.406], std=[0.229, 0.224, 0.225])\n",
    "])"
   ]
  },
  {
   "cell_type": "code",
   "execution_count": 73,
   "metadata": {},
   "outputs": [],
   "source": [
    "dataset = datasets.ImageFolder(root='./Datasets', transform=transform)"
   ]
  },
  {
   "cell_type": "code",
   "execution_count": 74,
   "metadata": {},
   "outputs": [
    {
     "name": "stdout",
     "output_type": "stream",
     "text": [
      "{'no': 0, 'yes': 1}\n"
     ]
    }
   ],
   "source": [
    "print(dataset.class_to_idx)"
   ]
  },
  {
   "cell_type": "code",
   "execution_count": 75,
   "metadata": {},
   "outputs": [],
   "source": [
    "train_size = int(0.6*len(dataset))\n",
    "test_size = int(len(dataset)*0.2)\n",
    "val_size = len(dataset) - test_size - train_size"
   ]
  },
  {
   "cell_type": "code",
   "execution_count": 76,
   "metadata": {},
   "outputs": [],
   "source": [
    "from torch.utils.data import random_split\n",
    "data_train, data_test, data_val = random_split(dataset, [train_size,test_size,val_size])"
   ]
  },
  {
   "cell_type": "code",
   "execution_count": 77,
   "metadata": {},
   "outputs": [],
   "source": [
    "train_loader = DataLoader(data_train, batch_size=64, shuffle=True)\n",
    "test_loader =  DataLoader(data_test, batch_size=64, shuffle=False)\n",
    "val_loader =  DataLoader(data_val, batch_size=64, shuffle=False)\n"
   ]
  },
  {
   "cell_type": "code",
   "execution_count": 78,
   "metadata": {},
   "outputs": [],
   "source": [
    "import torch.nn as nn\n",
    "import torch.optim  as optim\n",
    "import torch.nn.functional as f\n",
    "# tính kích thước đầu ra:(Input Size−Kernel Size+2*padding)/S + 1\n",
    "# (inputsize- kernel size)/s+1\n",
    "#xây dựng mô hình CNN\n",
    "class CNNModel(nn.Module):\n",
    "    def __init__(self):\n",
    "        super(CNNModel, self).__init__()\n",
    "        # Conv2D layers\n",
    "        self.conv1 = nn.Conv2d(in_channels=3, out_channels=64, kernel_size=3, stride=1, padding=1)\n",
    "        self.conv2 = nn.Conv2d(in_channels=64, out_channels=32, kernel_size=3, stride=1, padding=1)\n",
    "        self.conv3 = nn.Conv2d(in_channels=32, out_channels=64, kernel_size=3, stride=1, padding=1)\n",
    "        \n",
    "        # MaxPooling layers\n",
    "        self.pool = nn.MaxPool2d(kernel_size=2, stride=2, padding=0)\n",
    "        def get_output_size(input_size):\n",
    "            size = input_size\n",
    "            size = (size - 3 + 2 * 1) // 1 + 1  # Conv layer\n",
    "            size = (size - 2) // 2 + 1  # MaxPooling layer\n",
    "            size = (size - 3 + 2 * 1) // 1 + 1  # Conv layer\n",
    "            size = (size - 2) // 2 + 1  # MaxPooling layer\n",
    "            size = (size - 3 + 2 * 1) // 1 + 1  # Conv layer\n",
    "            size = (size - 2) // 2 + 1  # MaxPooling layer\n",
    "            return size\n",
    "\n",
    "        input_size = 64\n",
    "        output_size = get_output_size(input_size)\n",
    "        self.fc1 = nn.Linear(64 * output_size * output_size, 64)\n",
    "        self.fc2 = nn.Linear(64, 1)\n",
    "        \n",
    "        # Dropout\n",
    "        self.dropout = nn.Dropout(0.5)\n",
    "        \n",
    "    def forward(self, x):\n",
    "        x = self.pool(f.relu(self.conv1(x)))\n",
    "        x = self.pool(f.relu(self.conv2(x)))\n",
    "        x = self.pool(f.relu(self.conv3(x)))\n",
    "        x = x.view(x.size(0), -1)\n",
    "        x = f.relu(self.fc1(x))\n",
    "        x = self.dropout(x)\n",
    "        x = self.fc2(x)  \n",
    "        return x\n",
    "model = CNNModel()\n",
    "criterion = nn.BCEWithLogitsLoss()\n",
    "optimizer = optim.Adam(model.parameters(), lr=0.001)"
   ]
  },
  {
   "cell_type": "code",
   "execution_count": 79,
   "metadata": {},
   "outputs": [],
   "source": [
    "def calculate_accuracy(predictions, labels):\n",
    "    predictions = torch.sigmoid(predictions)\n",
    "    predicted_classes = (predictions > 0.5).float()  # Convert probabilities to class labels\n",
    "    correct = (predicted_classes == labels).sum().item()\n",
    "    return correct"
   ]
  },
  {
   "cell_type": "code",
   "execution_count": 80,
   "metadata": {},
   "outputs": [],
   "source": [
    "train_losses = []\n",
    "val_losses = []\n",
    "val_accuracies = []\n",
    "train_accuracies =[]"
   ]
  },
  {
   "cell_type": "code",
   "execution_count": 81,
   "metadata": {},
   "outputs": [
    {
     "name": "stdout",
     "output_type": "stream",
     "text": [
      "Accuracy on epoch: 0 validation dataset: 62.00%\n",
      "Accuracy on epoch: 1 validation dataset: 75.50%\n",
      "Accuracy on epoch: 2 validation dataset: 83.17%\n",
      "Accuracy on epoch: 3 validation dataset: 79.33%\n",
      "Accuracy on epoch: 4 validation dataset: 91.00%\n",
      "Accuracy on epoch: 5 validation dataset: 91.17%\n",
      "Accuracy on epoch: 6 validation dataset: 92.83%\n",
      "Accuracy on epoch: 7 validation dataset: 92.83%\n",
      "Accuracy on epoch: 8 validation dataset: 94.67%\n",
      "Accuracy on epoch: 9 validation dataset: 96.17%\n",
      "Accuracy on epoch: 10 validation dataset: 96.67%\n",
      "Accuracy on epoch: 11 validation dataset: 96.50%\n",
      "Accuracy on epoch: 12 validation dataset: 96.33%\n",
      "Accuracy on epoch: 13 validation dataset: 96.50%\n",
      "Accuracy on epoch: 14 validation dataset: 97.00%\n",
      "Accuracy on epoch: 15 validation dataset: 96.33%\n",
      "Accuracy on epoch: 16 validation dataset: 97.33%\n",
      "Accuracy on epoch: 17 validation dataset: 98.00%\n",
      "Accuracy on epoch: 18 validation dataset: 98.00%\n",
      "Accuracy on epoch: 19 validation dataset: 97.33%\n",
      "Accuracy on epoch: 20 validation dataset: 97.33%\n",
      "Accuracy on epoch: 21 validation dataset: 97.50%\n",
      "Accuracy on epoch: 22 validation dataset: 97.50%\n",
      "Accuracy on epoch: 23 validation dataset: 97.17%\n",
      "Accuracy on epoch: 24 validation dataset: 97.83%\n",
      "Accuracy on epoch: 25 validation dataset: 97.00%\n",
      "Accuracy on epoch: 26 validation dataset: 97.50%\n",
      "Accuracy on epoch: 27 validation dataset: 96.83%\n",
      "Accuracy on epoch: 28 validation dataset: 97.00%\n",
      "Accuracy on epoch: 29 validation dataset: 97.50%\n",
      "Accuracy on epoch: 30 validation dataset: 97.67%\n",
      "Accuracy on epoch: 31 validation dataset: 97.67%\n",
      "Accuracy on epoch: 32 validation dataset: 97.50%\n",
      "Accuracy on epoch: 33 validation dataset: 98.17%\n",
      "Accuracy on epoch: 34 validation dataset: 98.17%\n",
      "Accuracy on epoch: 35 validation dataset: 97.67%\n",
      "Accuracy on epoch: 36 validation dataset: 97.67%\n",
      "Accuracy on epoch: 37 validation dataset: 96.83%\n",
      "Accuracy on epoch: 38 validation dataset: 97.33%\n",
      "Accuracy on epoch: 39 validation dataset: 96.67%\n",
      "Accuracy on epoch: 40 validation dataset: 97.67%\n",
      "Accuracy on epoch: 41 validation dataset: 97.83%\n",
      "Accuracy on epoch: 42 validation dataset: 97.83%\n",
      "Accuracy on epoch: 43 validation dataset: 97.67%\n",
      "Accuracy on epoch: 44 validation dataset: 98.33%\n",
      "Accuracy on epoch: 45 validation dataset: 97.50%\n",
      "Accuracy on epoch: 46 validation dataset: 96.83%\n",
      "Accuracy on epoch: 47 validation dataset: 97.67%\n",
      "Accuracy on epoch: 48 validation dataset: 97.83%\n",
      "Accuracy on epoch: 49 validation dataset: 97.67%\n",
      "Accuracy on epoch: 50 validation dataset: 98.50%\n",
      "Accuracy on epoch: 51 validation dataset: 98.50%\n",
      "Accuracy on epoch: 52 validation dataset: 98.17%\n",
      "Accuracy on epoch: 53 validation dataset: 98.00%\n",
      "Accuracy on epoch: 54 validation dataset: 97.67%\n",
      "Accuracy on epoch: 55 validation dataset: 98.17%\n",
      "Accuracy on epoch: 56 validation dataset: 98.00%\n",
      "Accuracy on epoch: 57 validation dataset: 97.67%\n",
      "Accuracy on epoch: 58 validation dataset: 97.67%\n",
      "Accuracy on epoch: 59 validation dataset: 98.00%\n",
      "Accuracy on epoch: 60 validation dataset: 98.00%\n",
      "Accuracy on epoch: 61 validation dataset: 97.83%\n",
      "Accuracy on epoch: 62 validation dataset: 96.33%\n",
      "Accuracy on epoch: 63 validation dataset: 96.33%\n",
      "Accuracy on epoch: 64 validation dataset: 97.50%\n",
      "Accuracy on epoch: 65 validation dataset: 97.00%\n",
      "Accuracy on epoch: 66 validation dataset: 96.67%\n",
      "Accuracy on epoch: 67 validation dataset: 96.67%\n",
      "Accuracy on epoch: 68 validation dataset: 98.00%\n",
      "Accuracy on epoch: 69 validation dataset: 97.33%\n",
      "Accuracy on epoch: 70 validation dataset: 96.83%\n",
      "Accuracy on epoch: 71 validation dataset: 97.17%\n",
      "Accuracy on epoch: 72 validation dataset: 96.83%\n",
      "Accuracy on epoch: 73 validation dataset: 96.67%\n",
      "Accuracy on epoch: 74 validation dataset: 97.50%\n",
      "Accuracy on epoch: 75 validation dataset: 97.50%\n",
      "Accuracy on epoch: 76 validation dataset: 96.50%\n",
      "Accuracy on epoch: 77 validation dataset: 97.33%\n",
      "Accuracy on epoch: 78 validation dataset: 97.17%\n",
      "Accuracy on epoch: 79 validation dataset: 97.17%\n",
      "Accuracy on epoch: 80 validation dataset: 97.50%\n",
      "Accuracy on epoch: 81 validation dataset: 97.67%\n",
      "Accuracy on epoch: 82 validation dataset: 97.50%\n",
      "Accuracy on epoch: 83 validation dataset: 97.50%\n",
      "Accuracy on epoch: 84 validation dataset: 97.33%\n",
      "Accuracy on epoch: 85 validation dataset: 97.50%\n",
      "Accuracy on epoch: 86 validation dataset: 97.83%\n",
      "Accuracy on epoch: 87 validation dataset: 97.33%\n",
      "Accuracy on epoch: 88 validation dataset: 97.17%\n",
      "Accuracy on epoch: 89 validation dataset: 97.67%\n",
      "Accuracy on epoch: 90 validation dataset: 96.67%\n",
      "Accuracy on epoch: 91 validation dataset: 98.00%\n",
      "Accuracy on epoch: 92 validation dataset: 97.67%\n",
      "Accuracy on epoch: 93 validation dataset: 97.50%\n",
      "Accuracy on epoch: 94 validation dataset: 98.17%\n",
      "Accuracy on epoch: 95 validation dataset: 97.67%\n",
      "Accuracy on epoch: 96 validation dataset: 98.00%\n",
      "Accuracy on epoch: 97 validation dataset: 97.50%\n",
      "Accuracy on epoch: 98 validation dataset: 97.50%\n",
      "Accuracy on epoch: 99 validation dataset: 98.00%\n",
      "Accuracy on epoch: 100 validation dataset: 98.00%\n",
      "Accuracy on epoch: 101 validation dataset: 97.67%\n",
      "Accuracy on epoch: 102 validation dataset: 97.83%\n",
      "Accuracy on epoch: 103 validation dataset: 98.00%\n",
      "Accuracy on epoch: 104 validation dataset: 96.33%\n",
      "Accuracy on epoch: 105 validation dataset: 95.67%\n",
      "Accuracy on epoch: 106 validation dataset: 96.50%\n",
      "Accuracy on epoch: 107 validation dataset: 97.83%\n",
      "Accuracy on epoch: 108 validation dataset: 97.50%\n",
      "Accuracy on epoch: 109 validation dataset: 97.17%\n",
      "Accuracy on epoch: 110 validation dataset: 96.67%\n",
      "Accuracy on epoch: 111 validation dataset: 94.83%\n",
      "Accuracy on epoch: 112 validation dataset: 96.67%\n",
      "Accuracy on epoch: 113 validation dataset: 97.00%\n",
      "Accuracy on epoch: 114 validation dataset: 97.67%\n",
      "Accuracy on epoch: 115 validation dataset: 95.33%\n",
      "Accuracy on epoch: 116 validation dataset: 97.00%\n",
      "Accuracy on epoch: 117 validation dataset: 97.17%\n",
      "Accuracy on epoch: 118 validation dataset: 97.67%\n",
      "Accuracy on epoch: 119 validation dataset: 97.33%\n",
      "Accuracy on epoch: 120 validation dataset: 97.33%\n",
      "Accuracy on epoch: 121 validation dataset: 97.33%\n",
      "Accuracy on epoch: 122 validation dataset: 98.00%\n",
      "Accuracy on epoch: 123 validation dataset: 97.67%\n",
      "Accuracy on epoch: 124 validation dataset: 97.83%\n",
      "Accuracy on epoch: 125 validation dataset: 98.17%\n",
      "Accuracy on epoch: 126 validation dataset: 97.67%\n",
      "Accuracy on epoch: 127 validation dataset: 97.67%\n",
      "Accuracy on epoch: 128 validation dataset: 97.67%\n",
      "Accuracy on epoch: 129 validation dataset: 97.83%\n",
      "Accuracy on epoch: 130 validation dataset: 97.83%\n",
      "Accuracy on epoch: 131 validation dataset: 97.67%\n",
      "Accuracy on epoch: 132 validation dataset: 96.83%\n",
      "Accuracy on epoch: 133 validation dataset: 97.00%\n",
      "Accuracy on epoch: 134 validation dataset: 97.33%\n",
      "Accuracy on epoch: 135 validation dataset: 97.50%\n",
      "Accuracy on epoch: 136 validation dataset: 97.67%\n",
      "Accuracy on epoch: 137 validation dataset: 97.50%\n",
      "Accuracy on epoch: 138 validation dataset: 97.67%\n",
      "Accuracy on epoch: 139 validation dataset: 97.67%\n",
      "Accuracy on epoch: 140 validation dataset: 97.67%\n",
      "Accuracy on epoch: 141 validation dataset: 97.17%\n",
      "Accuracy on epoch: 142 validation dataset: 96.17%\n",
      "Accuracy on epoch: 143 validation dataset: 97.83%\n",
      "Accuracy on epoch: 144 validation dataset: 97.50%\n",
      "Accuracy on epoch: 145 validation dataset: 98.17%\n",
      "Accuracy on epoch: 146 validation dataset: 98.50%\n",
      "Accuracy on epoch: 147 validation dataset: 98.50%\n",
      "Accuracy on epoch: 148 validation dataset: 98.33%\n",
      "Accuracy on epoch: 149 validation dataset: 98.00%\n",
      "Accuracy on epoch: 150 validation dataset: 98.33%\n",
      "Accuracy on epoch: 151 validation dataset: 98.33%\n",
      "Accuracy on epoch: 152 validation dataset: 98.33%\n",
      "Accuracy on epoch: 153 validation dataset: 98.33%\n",
      "Accuracy on epoch: 154 validation dataset: 98.17%\n",
      "Accuracy on epoch: 155 validation dataset: 98.00%\n",
      "Accuracy on epoch: 156 validation dataset: 98.00%\n",
      "Accuracy on epoch: 157 validation dataset: 98.00%\n",
      "Accuracy on epoch: 158 validation dataset: 98.17%\n",
      "Accuracy on epoch: 159 validation dataset: 98.17%\n",
      "Accuracy on epoch: 160 validation dataset: 98.17%\n",
      "Accuracy on epoch: 161 validation dataset: 98.17%\n",
      "Accuracy on epoch: 162 validation dataset: 98.17%\n",
      "Accuracy on epoch: 163 validation dataset: 98.33%\n",
      "Accuracy on epoch: 164 validation dataset: 98.33%\n",
      "Accuracy on epoch: 165 validation dataset: 98.33%\n",
      "Accuracy on epoch: 166 validation dataset: 98.33%\n",
      "Accuracy on epoch: 167 validation dataset: 98.17%\n",
      "Accuracy on epoch: 168 validation dataset: 98.33%\n",
      "Accuracy on epoch: 169 validation dataset: 97.83%\n",
      "Accuracy on epoch: 170 validation dataset: 97.50%\n",
      "Accuracy on epoch: 171 validation dataset: 96.83%\n",
      "Accuracy on epoch: 172 validation dataset: 98.00%\n",
      "Accuracy on epoch: 173 validation dataset: 97.67%\n",
      "Accuracy on epoch: 174 validation dataset: 98.17%\n",
      "Accuracy on epoch: 175 validation dataset: 98.33%\n",
      "Accuracy on epoch: 176 validation dataset: 98.33%\n",
      "Accuracy on epoch: 177 validation dataset: 97.83%\n",
      "Accuracy on epoch: 178 validation dataset: 98.17%\n",
      "Accuracy on epoch: 179 validation dataset: 97.67%\n",
      "Accuracy on epoch: 180 validation dataset: 97.83%\n",
      "Accuracy on epoch: 181 validation dataset: 98.17%\n",
      "Accuracy on epoch: 182 validation dataset: 98.17%\n",
      "Accuracy on epoch: 183 validation dataset: 98.17%\n",
      "Accuracy on epoch: 184 validation dataset: 98.17%\n",
      "Accuracy on epoch: 185 validation dataset: 98.17%\n",
      "Accuracy on epoch: 186 validation dataset: 98.33%\n",
      "Accuracy on epoch: 187 validation dataset: 98.33%\n",
      "Accuracy on epoch: 188 validation dataset: 97.83%\n",
      "Accuracy on epoch: 189 validation dataset: 97.83%\n",
      "Accuracy on epoch: 190 validation dataset: 98.00%\n",
      "Accuracy on epoch: 191 validation dataset: 97.83%\n",
      "Accuracy on epoch: 192 validation dataset: 97.67%\n",
      "Accuracy on epoch: 193 validation dataset: 97.50%\n",
      "Accuracy on epoch: 194 validation dataset: 98.33%\n",
      "Accuracy on epoch: 195 validation dataset: 98.50%\n",
      "Accuracy on epoch: 196 validation dataset: 98.50%\n",
      "Accuracy on epoch: 197 validation dataset: 98.17%\n",
      "Accuracy on epoch: 198 validation dataset: 98.00%\n",
      "Accuracy on epoch: 199 validation dataset: 98.33%\n",
      "Finished Training\n"
     ]
    }
   ],
   "source": [
    "for epoch in range(200):\n",
    "    model.train()  # Set the model to training mode\n",
    "    running_loss = 0.0\n",
    "    correct_train = 0\n",
    "    totalt = 0\n",
    "    total_samples_in_epoch = len(train_loader) * train_loader.batch_size\n",
    "    for i, (inputs, labels) in enumerate(train_loader, 0):\n",
    "        optimizer.zero_grad()  # xóa gradient cũ\n",
    "        \n",
    "        outputs = model(inputs)\n",
    "        \n",
    "        labels = labels.unsqueeze(1).float()  # Ensure labels have the correct shape and type\n",
    "        correct_train += calculate_accuracy(outputs,labels)\n",
    "        loss = criterion(outputs, labels) \n",
    "        loss.backward()  # Backward pass\n",
    "        optimizer.step()  # Update weights\n",
    "        \n",
    "        running_loss += loss.item()\n",
    "        totalt += labels.size(0)\n",
    "        \n",
    "\n",
    "    train_loss = running_loss / len(train_loader)\n",
    "    train_losses.append(train_loss)\n",
    "    train_accuracy = correct_train / totalt\n",
    "    train_accuracies.append(train_accuracy)\n",
    "    # Validation phase\n",
    "    model.eval()  # Set the model to evaluation mode\n",
    "    val_loss = 0.0\n",
    "    correct = 0\n",
    "    total = 0\n",
    "    with torch.no_grad():\n",
    "        for inputs, labels in val_loader:\n",
    "            outputs = model(inputs)\n",
    "            \n",
    "            labels = labels.unsqueeze(1).float()\n",
    "            correct_in = calculate_accuracy(outputs, labels)\n",
    "            loss = criterion(outputs, labels)\n",
    "            val_loss += loss.item()\n",
    "            total += labels.size(0)\n",
    "            correct += (correct_in)  # Accumulate accuracy\n",
    "    val_loss /= len(val_loader)\n",
    "    val_losses.append(val_loss)\n",
    "    accuracy_percentage = (correct*100 / total) if total > 0 else 0\n",
    "    val_accuracies.append(accuracy_percentage/100)\n",
    "    print(f'Accuracy on epoch: {epoch} validation dataset: {accuracy_percentage:.2f}%')\n",
    "\n",
    "print('Finished Training')"
   ]
  },
  {
   "cell_type": "code",
   "execution_count": 87,
   "metadata": {},
   "outputs": [],
   "source": [
    "#torch.save(model, 'BrainTumorbyTorch.pth')"
   ]
  },
  {
   "cell_type": "code",
   "execution_count": 88,
   "metadata": {},
   "outputs": [],
   "source": [
    "import matplotlib.pyplot as plt"
   ]
  },
  {
   "cell_type": "code",
   "execution_count": 89,
   "metadata": {},
   "outputs": [
    {
     "data": {
      "text/plain": [
       "<matplotlib.legend.Legend at 0x16c5d5eb940>"
      ]
     },
     "execution_count": 89,
     "metadata": {},
     "output_type": "execute_result"
    },
    {
     "data": {
      "image/png": "[encoded data removed]",
      "text/plain": [
       "<Figure size 640x480 with 1 Axes>"
      ]
     },
     "metadata": {},
     "output_type": "display_data"
    }
   ],
   "source": [
    "plt.plot(range(1,201),train_losses,label ='Train loss')\n",
    "plt.plot(range(1,201), val_losses, label='Val Loss')\n",
    "plt.xlabel('Epochs')\n",
    "plt.ylabel('Loss')\n",
    "plt.legend()"
   ]
  },
  {
   "cell_type": "code",
   "execution_count": 90,
   "metadata": {},
   "outputs": [
    {
     "name": "stdout",
     "output_type": "stream",
     "text": [
      "[0.6133333333333333, 0.7127777777777777, 0.7805555555555556, 0.8394444444444444, 0.8761111111111111, 0.9077777777777778, 0.9338888888888889, 0.95, 0.9472222222222222, 0.9716666666666667, 0.9783333333333334, 0.9816666666666667, 0.99, 0.9916666666666667, 0.9911111111111112, 0.9922222222222222, 0.9916666666666667, 0.995, 0.9966666666666667, 0.9983333333333333, 0.9961111111111111, 0.995, 0.9988888888888889, 0.9983333333333333, 0.9955555555555555, 0.9966666666666667, 0.9983333333333333, 0.9938888888888889, 0.9927777777777778, 0.9927777777777778, 0.9972222222222222, 0.9983333333333333, 0.9972222222222222, 0.9994444444444445, 1.0, 0.9988888888888889, 0.9988888888888889, 0.9977777777777778, 0.9972222222222222, 0.9972222222222222, 0.9988888888888889, 0.9983333333333333, 0.9983333333333333, 0.9994444444444445, 0.9972222222222222, 0.99, 0.9988888888888889, 0.9994444444444445, 0.9961111111111111, 0.9994444444444445, 0.9994444444444445, 0.9994444444444445, 0.9994444444444445, 0.9994444444444445, 0.9983333333333333, 0.9988888888888889, 0.9994444444444445, 1.0, 1.0, 1.0, 1.0, 0.9994444444444445, 0.9905555555555555, 0.9788888888888889, 0.975, 0.9938888888888889, 0.9933333333333333, 0.9977777777777778, 0.9961111111111111, 0.9966666666666667, 0.9977777777777778, 0.9983333333333333, 1.0, 0.9983333333333333, 0.9983333333333333, 0.9977777777777778, 0.9966666666666667, 0.9994444444444445, 1.0, 0.9994444444444445, 1.0, 0.9994444444444445, 0.9994444444444445, 1.0, 0.9994444444444445, 1.0, 0.9994444444444445, 1.0, 0.9983333333333333, 0.9988888888888889, 0.9994444444444445, 1.0, 1.0, 1.0, 0.9994444444444445, 1.0, 1.0, 0.9994444444444445, 1.0, 1.0, 1.0, 1.0, 0.9983333333333333, 0.9994444444444445, 0.9961111111111111, 0.9955555555555555, 0.9944444444444445, 0.9938888888888889, 0.9972222222222222, 0.9972222222222222, 0.9972222222222222, 0.9877777777777778, 0.9894444444444445, 0.9922222222222222, 0.9944444444444445, 0.995, 0.9888888888888889, 0.9966666666666667, 0.9988888888888889, 0.9994444444444445, 0.9994444444444445, 0.9994444444444445, 1.0, 1.0, 0.9994444444444445, 0.9988888888888889, 1.0, 1.0, 1.0, 1.0, 0.9994444444444445, 0.9994444444444445, 0.9988888888888889, 1.0, 1.0, 1.0, 1.0, 1.0, 1.0, 1.0, 1.0, 0.9988888888888889, 0.9972222222222222, 0.9938888888888889, 0.9933333333333333, 0.9977777777777778, 0.9977777777777778, 0.9994444444444445, 1.0, 1.0, 1.0, 1.0, 1.0, 0.9988888888888889, 0.9994444444444445, 1.0, 1.0, 1.0, 1.0, 1.0, 0.9994444444444445, 1.0, 1.0, 0.9994444444444445, 1.0, 1.0, 1.0, 0.9983333333333333, 0.9988888888888889, 1.0, 1.0, 1.0, 0.9994444444444445, 0.9988888888888889, 0.9994444444444445, 1.0, 1.0, 1.0, 1.0, 1.0, 0.9988888888888889, 1.0, 1.0, 1.0, 1.0, 1.0, 0.9994444444444445, 0.9994444444444445, 0.9994444444444445, 1.0, 1.0, 1.0, 1.0, 1.0, 1.0, 1.0, 1.0, 1.0, 1.0, 1.0]\n"
     ]
    }
   ],
   "source": [
    "print(train_accuracies)"
   ]
  },
  {
   "cell_type": "code",
   "execution_count": 91,
   "metadata": {},
   "outputs": [
    {
     "data": {
      "text/plain": [
       "<matplotlib.legend.Legend at 0x16c5d668520>"
      ]
     },
     "execution_count": 91,
     "metadata": {},
     "output_type": "execute_result"
    },
    {
     "data": {
      "image/png": "[encoded data removed]",
      "text/plain": [
       "<Figure size 640x480 with 1 Axes>"
      ]
     },
     "metadata": {},
     "output_type": "display_data"
    }
   ],
   "source": [
    "plt.plot(range(1,201),train_accuracies,label = 'train')\n",
    "plt.plot(range(1,201),val_accuracies,label = 'val')\n",
    "plt.xlabel('Epochs')\n",
    "plt.ylabel('')\n",
    "plt.legend()"
   ]
  }
 ],
 "metadata": {
  "kernelspec": {
   "display_name": "Python 3",
   "language": "python",
   "name": "python3"
  },
  "language_info": {
   "codemirror_mode": {
    "name": "ipython",
    "version": 3
   },
   "file_extension": ".py",
   "mimetype": "text/x-python",
   "name": "python",
   "nbconvert_exporter": "python",
   "pygments_lexer": "ipython3",
   "version": "3.9.19"
  }
 },
 "nbformat": 4,
 "nbformat_minor": 2
}
